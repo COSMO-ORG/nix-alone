{
 "cells": [
  {
   "cell_type": "code",
   "execution_count": 1,
   "metadata": {},
   "outputs": [],
   "source": [
    "import pandas as pd\n",
    "import read_data\n",
    "import utils"
   ]
  },
  {
   "cell_type": "code",
   "execution_count": 2,
   "metadata": {},
   "outputs": [],
   "source": [
    "def smet_to_nixssa(input_file,output_folder):\n",
    "\n",
    "    stn_name = input_file.split('/')[-1].split('.')[0]\n",
    "    o_file_analysis = f'{output_folder}/{stn_name}_forcing.txt'\n",
    "    o_file_check = f'{output_folder}/{stn_name}_HS.txt'\n",
    "    df_snowpack_forcing,altitude,timeresolution = read_data.read_smet_file(input_file)\n",
    "    df_snowpack_forcing[\"ISWR_dir\"] = df_snowpack_forcing[\"ISWR\"]\n",
    "    df_snowpack_forcing[\"ISWR_dif\"] = df_snowpack_forcing[\"ISWR\"] * 0.0\n",
    "    df_snowpack_forcing[\"P\"] = utils.calc_P(altitude)\n",
    "    df_snowpack_forcing[\"QV\"] = df_snowpack_forcing.apply(\n",
    "    lambda row: row[\"RH\"] * utils.calc_qsat_noah(row[\"TA\"], row[\"P\"]), axis=1)\n",
    "\n",
    "    snow_height = df_snowpack_forcing['HS']\n",
    "    df_snowpack_forcing = df_snowpack_forcing[\n",
    "        [\"TA\", \"P\", \"QV\", \"VW\", \"ISWR_dir\", \"ISWR_dif\", \"ILWR\", \"PSUM\", \"TSG\"]\n",
    "    ]\n",
    "\n",
    "\n",
    "    df_snowpack_forcing[\"PSUM\"] = df_snowpack_forcing['PSUM'] / timeresolution\n",
    "    df_snowpack_forcing.to_csv(o_file_analysis, float_format=\"%g\", header=False, index=False)\n",
    "    snow_height.to_csv(o_file_check, float_format=\"%g\", header=False, index=False)\n"
   ]
  },
  {
   "cell_type": "code",
   "execution_count": 3,
   "metadata": {},
   "outputs": [],
   "source": [
    "smet_to_nixssa('./input_smet/WFJ.smet','./output')"
   ]
  },
  {
   "cell_type": "code",
   "execution_count": null,
   "metadata": {},
   "outputs": [],
   "source": []
  }
 ],
 "metadata": {
  "kernelspec": {
   "display_name": "meteosherpa",
   "language": "python",
   "name": "python3"
  },
  "language_info": {
   "codemirror_mode": {
    "name": "ipython",
    "version": 3
   },
   "file_extension": ".py",
   "mimetype": "text/x-python",
   "name": "python",
   "nbconvert_exporter": "python",
   "pygments_lexer": "ipython3",
   "version": "3.10.10"
  },
  "orig_nbformat": 4
 },
 "nbformat": 4,
 "nbformat_minor": 2
}
